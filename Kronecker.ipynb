{
 "cells": [
  {
   "cell_type": "markdown",
   "metadata": {},
   "source": [
    "# The Graph500 Kronecker graph generator in Julia\n",
    "\n",
    "The [Graph500 Benchmark](http://www.graph500.org/specifications) includes a generator for a random Graph which is the basis for the benchmark computation. The theory for the generator is explained in Leskovic et al.'s \"Realistic, mathematically tractable graph generation and evolution, using kronecker multiplication\" but the Kronecker structure is not present in the Graph500 and, more importantly, the Kronecker structure is almost impossible to see in the Octave reference code.\n",
    "\n",
    "Here is a Julia implementation that uses the Kronecker product structure while maintaining speed comparable to the reference C++ implementation.\n",
    "\n",
    "In terms of the Kronecker structure, the problem of generating the random graph consists of two parts\n",
    "\n",
    "1. Generate an edge\n",
    "2. Sum $n$ edges\n",
    "\n",
    "and the Kronecker structure shows up in step 1. The procedure for 1. is the following. Let $E^{(1)}$ be a $2\\times 2$ random *one-hot-matrix*, i.e. with a single unit element and three zeros, e.g. $\\left( \\begin{smallmatrix}0 & 1\\\\ 0 & 0\\end{smallmatrix}\\right)$ then the adjacency matrix of a single edge of the Kronecker graph is\n",
    "$$\n",
    "E^{(n)}=\\bigotimes_{i=1}^n E^{(1)}_i\n",
    "$$\n",
    "and the complete graph of (about) $m$ edges is therefore\n",
    "$$\n",
    "\\sum_{i=1}^m E^{(n)}_i = \\sum_{i=1}^m \\bigotimes_{j=1}^n E^{(1)}_j\n",
    "$$\n",
    "\n",
    "Fairly simpel, but for a usual matrix implementation, a direct calculation of this quantity by, say two `mapreduce` operations, would be prohitively expensive if the $X$s were stored in a normal dense format, e.g. `[0 1; 0 0]`. For each of the Kronecker products, a new matrix would be allocated. Storing all elements would be out of question both in terms of storage ($2^{n+1}$ stored elements) and arithmetic operation ($2(2^n - 2)$ multiplications).\n",
    "\n",
    "Typical sparse representations such as compressed sparse column (CSC) or coordinate (COO) would in theory reduce the storage costs to a constant factor but these formats still carries more baggage than needed. Instead, we can define a custom type"
   ]
  },
  {
   "cell_type": "code",
   "execution_count": 1,
   "metadata": {
    "collapsed": false
   },
   "outputs": [],
   "source": [
    "immutable OneHotMatrix <: AbstractMatrix{Int}\n",
    "    n::Int\n",
    "    i::Int\n",
    "    j::Int\n",
    "end\n",
    "\n",
    "Base.size(A::OneHotMatrix)    = (A.n, A.n)\n",
    "Base.size(A::OneHotMatrix, i) = i < 1 ? error(\"\") :\n",
    "                                i < 3 ? A.n : 1\n",
    "\n",
    "Base.getindex(A::OneHotMatrix, i::Integer, j::Integer) = Int(i == A.i && j == A.j)\n",
    "\n",
    "Base.kron(A::OneHotMatrix, B::OneHotMatrix) = OneHotMatrix(A.n * B.n, (A.i - 1) * B.n + B.i, (A.j - 1) * B.n + B.j)\n",
    "\n",
    "const ⊗ = kron;"
   ]
  },
  {
   "cell_type": "markdown",
   "metadata": {},
   "source": [
    "When a type is a subtype of `AbstractMatrix`, the only two methods needed for minimal functionality are `size` and `getindex`. With this, we are able to create, show"
   ]
  },
  {
   "cell_type": "code",
   "execution_count": 2,
   "metadata": {
    "collapsed": false
   },
   "outputs": [
    {
     "data": {
      "text/plain": [
       "4×4 OneHotMatrix:\n",
       " 0  0  0  0\n",
       " 0  0  0  0\n",
       " 0  1  0  0\n",
       " 0  0  0  0"
      ]
     },
     "execution_count": 2,
     "metadata": {},
     "output_type": "execute_result"
    }
   ],
   "source": [
    "A = OneHotMatrix(4,3,2)"
   ]
  },
  {
   "cell_type": "markdown",
   "metadata": {},
   "source": [
    "and e.g. multiply"
   ]
  },
  {
   "cell_type": "code",
   "execution_count": 3,
   "metadata": {
    "collapsed": false
   },
   "outputs": [
    {
     "data": {
      "text/plain": [
       "4-element Array{Float64,1}:\n",
       "  0.0     \n",
       "  0.0     \n",
       " -0.577848\n",
       "  0.0     "
      ]
     },
     "execution_count": 3,
     "metadata": {},
     "output_type": "execute_result"
    }
   ],
   "source": [
    "A*randn(4)"
   ]
  },
  {
   "cell_type": "markdown",
   "metadata": {},
   "source": [
    "Mext, we define a type we can use for generating random instances of the `OneHotMatrix`. We call is `OneHotMatrixRNG` and it simply stores three probabilities"
   ]
  },
  {
   "cell_type": "code",
   "execution_count": 4,
   "metadata": {
    "collapsed": false
   },
   "outputs": [],
   "source": [
    "immutable OneHotMatrixRNG\n",
    "    p1::Float64\n",
    "    p2::Float64\n",
    "    p3::Float64\n",
    "    OneHotMatrixRNG(p1, p2, p3) = new(p1, p1 + p2, p1 + p2 + p3)\n",
    "end\n",
    "\n",
    "@inline function Base.rand(X::OneHotMatrixRNG)\n",
    "    u = rand(Float64)\n",
    "    ifelse(u < X.p1, OneHotMatrix(2, 1, 2),\n",
    "    ifelse(u < X.p2, OneHotMatrix(2, 2, 1),\n",
    "    ifelse(u < X.p3, OneHotMatrix(2, 2, 2), OneHotMatrix(2, 1, 1))))\n",
    "end"
   ]
  },
  {
   "cell_type": "markdown",
   "metadata": {},
   "source": [
    "We can now generate random instances"
   ]
  },
  {
   "cell_type": "code",
   "execution_count": 5,
   "metadata": {
    "collapsed": false
   },
   "outputs": [
    {
     "data": {
      "text/plain": [
       "2×2 OneHotMatrix:\n",
       " 0  1\n",
       " 0  0"
      ]
     },
     "metadata": {},
     "output_type": "display_data"
    },
    {
     "data": {
      "text/plain": [
       "2×2 OneHotMatrix:\n",
       " 0  0\n",
       " 0  1"
      ]
     },
     "metadata": {},
     "output_type": "display_data"
    },
    {
     "data": {
      "text/plain": [
       "2×2 OneHotMatrix:\n",
       " 0  1\n",
       " 0  0"
      ]
     },
     "metadata": {},
     "output_type": "display_data"
    }
   ],
   "source": [
    "for i = 1:3\n",
    "    display(rand(OneHotMatrixRNG(0.57, 0.19, 0.19)))\n",
    "end"
   ]
  },
  {
   "cell_type": "markdown",
   "metadata": {},
   "source": [
    "We now define a matrix type accumulating the indices of the non-zero elements. Internally, it is simply a vector of the index tuples and a size. Again, we define `size` and `getindex` but here we also define `+` for two `OneHotMatrix` types which generates a `COOSquare` and then an in-place addition function `add!` to avoid excessive realloactions when accumulating instances of `OneHotMatrix`."
   ]
  },
  {
   "cell_type": "code",
   "execution_count": 6,
   "metadata": {
    "collapsed": false
   },
   "outputs": [],
   "source": [
    "# Define a sparse matrix type to store the accumulation of Kronecker terms\n",
    "immutable COOSquare <: AbstractSparseMatrix{Int}\n",
    "    keys::Vector{Tuple{Int,Int}}\n",
    "    n::Int\n",
    "end\n",
    "\n",
    "Base.size(A::COOSquare)    = (A.n, A.n)\n",
    "Base.size(A::COOSquare, i) = i < 1 ? error(\"\") :\n",
    "                             i < 3 ? A.n : 1\n",
    "\n",
    "Base.getindex(A::COOSquare, i::Integer, j::Integer) = mapreduce(a -> i == a[1] && j == a[2], +, A.keys)\n",
    "\n",
    "import Base: +\n",
    "function (+)(A::OneHotMatrix, B::OneHotMatrix)\n",
    "    if A.n != B.n\n",
    "        error(\"\")\n",
    "    end\n",
    "    return COOSquare(Tuple{Int,Int}[(A.i, A.j), (B.i, B.j)], A.n)\n",
    "end\n",
    "function add!(A::COOSquare, B::OneHotMatrix)\n",
    "    push!(A.keys, (B.i, B.j))\n",
    "    return A\n",
    "end\n",
    "function add!(A::COOSquare, B::COOSquare)\n",
    "    append!(A.keys, B.keys)\n",
    "    return A\n",
    "end\n",
    "\n",
    "# Make sure that the reduction initialized correctly for our new type\n",
    "Base.r_promote(::typeof(add!), x::OneHotMatrix) = COOSquare([(x.i, x.j)], x.n)"
   ]
  },
  {
   "cell_type": "code",
   "execution_count": 7,
   "metadata": {
    "collapsed": false
   },
   "outputs": [
    {
     "data": {
      "text/plain": [
       "OneHotMatrixRNG(0.57,0.76,0.95)"
      ]
     },
     "execution_count": 7,
     "metadata": {},
     "output_type": "execute_result"
    }
   ],
   "source": [
    "X = OneHotMatrixRNG(0.57, 0.19, 0.19)"
   ]
  },
  {
   "cell_type": "code",
   "execution_count": 8,
   "metadata": {
    "collapsed": false
   },
   "outputs": [
    {
     "data": {
      "text/plain": [
       "4×4 COOSquare:\n",
       " 0  0  0  2\n",
       " 0  0  0  0\n",
       " 0  0  0  0\n",
       " 0  0  0  0"
      ]
     },
     "execution_count": 8,
     "metadata": {},
     "output_type": "execute_result"
    }
   ],
   "source": [
    "E₁, E₂, E₃, E₄ = rand(X), rand(X), rand(X), rand(X)\n",
    "E₁⊗E₂ + E₃⊗E₄"
   ]
  },
  {
   "cell_type": "markdown",
   "metadata": {
    "collapsed": false
   },
   "source": [
    "Finally, we can define the graph generator"
   ]
  },
  {
   "cell_type": "code",
   "execution_count": 9,
   "metadata": {
    "collapsed": false
   },
   "outputs": [],
   "source": [
    "immutable Kronecker\n",
    "    m::Int\n",
    "    n::Int\n",
    "    rng::OneHotMatrixRNG\n",
    "end\n",
    "\n",
    "function Base.rand(x::Kronecker)\n",
    "    E1(_) = rand(x.rng)\n",
    "    En(_) = mapreduce(E1, ⊗, 1:x.m)\n",
    "    return mapreduce(En , add!, 1:x.n)\n",
    "end"
   ]
  },
  {
   "cell_type": "markdown",
   "metadata": {},
   "source": [
    "To show the sparsity pattern, we define a few convenience functions for printing sparse matrices"
   ]
  },
  {
   "cell_type": "code",
   "execution_count": 10,
   "metadata": {
    "collapsed": false
   },
   "outputs": [
    {
     "data": {
      "text/plain": [
       "spy (generic function with 6 methods)"
      ]
     },
     "execution_count": 10,
     "metadata": {},
     "output_type": "execute_result"
    }
   ],
   "source": [
    "type SpyMatrix{T}\n",
    "    data::Matrix{T}\n",
    "    sz::Tuple{Int,Int}\n",
    "end\n",
    "function SpyMatrix(A::SparseMatrixCSC, s1 = 40, s2 = 80)\n",
    "    m, n = size(A)\n",
    "    c = A.colptr\n",
    "    r = A.rowval\n",
    "    B = zeros(Int, s1, s2)\n",
    "    for j = 1:length(c) - 1\n",
    "        for k = c[j]:c[j + 1] - 1\n",
    "            i = r[k]\n",
    "            iB = ceil(Int, i/m*s1)\n",
    "            jB = ceil(Int, j/n*s2)\n",
    "            B[iB, jB] += 1\n",
    "        end\n",
    "    end\n",
    "    SpyMatrix(B/size(A,1)/size(A,2)*s1*s2, (m,n))\n",
    "end\n",
    "function show(io::IO, A::SpyMatrix)\n",
    "    charArray = [' ', '·', '•', '●']\n",
    "    AA = A.data\n",
    "    m, n = size(AA)\n",
    "    B = similar(AA, Char)\n",
    "    mm, nn = div(A.sz[1], size(AA, 1)), div(A.sz[2], size(AA, 2))\n",
    "    md2 = div(size(AA, 1), 2)\n",
    "\n",
    "    print(io, '┌')\n",
    "    for j = 1:n\n",
    "        print(io, '─')\n",
    "    end\n",
    "    println(io, '┐')\n",
    "    my, ny = A.sz\n",
    "    for i = 1:m\n",
    "        print(io, '│')\n",
    "        for j = 1:n\n",
    "            v = AA[i,j]\n",
    "            print(io, charArray[ifelse(2mm*nn/min(mm, nn)*v < 1, 1,\n",
    "                ifelse(sqrt(mm*nn)*v < 1, 2, \n",
    "                ifelse(2*v < 1, 3, 4)))])\n",
    "        end\n",
    "        print(io, '│')\n",
    "        if i == md2 - 3\n",
    "            println(io, \"  ┌──────────────────┐\")\n",
    "        elseif i == md2 - 2\n",
    "            println(io, \"  │$(charArray[1]) density ≈ 0     │\")\n",
    "        elseif i == md2 - 1\n",
    "            println(io, \"  │$(charArray[2]) density < 1/√mn │\")\n",
    "        elseif i == md2\n",
    "            println(io, \"  │$(charArray[3]) density < 50%   │\")\n",
    "        elseif i == md2 + 1\n",
    "            println(io, \"  │$(charArray[4]) density ≥ 50%   │\")\n",
    "        elseif i == md2 + 2\n",
    "            println(io, \"  └──────────────────┘\")\n",
    "        else\n",
    "            println(io)\n",
    "        end\n",
    "    end\n",
    "    print(io, '└')\n",
    "    for j = 1:size(AA, 2)\n",
    "        print(io, '─')\n",
    "    end\n",
    "    println(io, '┘')\n",
    "    nothing\n",
    "end\n",
    "function spy(io::IO, A::SparseMatrixCSC, sz = 40)\n",
    "    println(io, summary(A))\n",
    "    show(io, SpyMatrix(A, div(sz, 2), sz))\n",
    "    nzs = @sprintf(\"density: %.3e\", nnz(A)/length(A))\n",
    "    lpad = div(sz - length(nzs), 2)\n",
    "    for i = 1:lpad\n",
    "        print(io, ' ')\n",
    "    end\n",
    "    println(io, nzs)\n",
    "end\n",
    "spy(A::SparseMatrixCSC, sz = 40) = spy(STDOUT, A, sz)\n",
    "spy(A::COOSquare, sz = 40) =\n",
    "    spy(sparse([x[1] for x in A.keys], [x[2] for x in A.keys], ones(length(A.keys)), size(A)...), sz)"
   ]
  },
  {
   "cell_type": "markdown",
   "metadata": {},
   "source": [
    "Now we are ready to generate a Kronecker graph and display the sparcity pattern its adjacency matrix. This one will be $1048576\\times 1048576$ and have $16777216$ edges"
   ]
  },
  {
   "cell_type": "code",
   "execution_count": 11,
   "metadata": {
    "collapsed": false
   },
   "outputs": [
    {
     "name": "stdout",
     "output_type": "stream",
     "text": [
      "1048576×1048576 SparseMatrixCSC{Float64,Int64}\n",
      "┌────────────────────────────────────────────────────────────────────────────────┐\n",
      "│                                      ·•                  ·•        ·•   ·• ••••│\n",
      "│                                    ···•                ···•      ···• ···•·••••│\n",
      "│                                  ·    ·              ·    ·    ·    · ··•••••••│\n",
      "│                                  ·    ·              ·    ·    ·    · ·••• ·•••│\n",
      "│                                                                      ·••••·••••│\n",
      "│                             •         •         •         •    • ·•••    • ·•••│\n",
      "│                             ·         ·         ·         ·    · ••••    · ••••│\n",
      "│                                                                •····•    •····•│\n",
      "│                                                              ·••  ·••  ·••  ·••│\n",
      "│                                                             ···· ···· ···· ····│\n",
      "│                   •                   •         •    • ·•••         •    • ·•••│\n",
      "│                   ·                   ·         ·    · ••••         ·    · ••••│\n",
      "│                                                      •····•              •····•│\n",
      "│                                                    ·••  ·••            ·••  ·••│\n",
      "│                                                   ···· ····           ···· ····│\n",
      "│         ·         ·         ·         ·    ·   ••    ·   ••    ·  ·••    ·   ••│\n",
      "│                                              ·•·•      ·•·•      ·•·•      ·•·•│  ┌──────────────────┐\n",
      "│                                            •    •    •    •    •    •    •    •│  │  density ≈ 0     │\n",
      "│                                           ··   ··   ··   ··   ··   ··   ··   ··│  │· density < 1/√mn │\n",
      "│                                                                                │  │• density < 50%   │\n",
      "│                   •         •    • ·•••                   •         •    • ·•••│  │● density ≥ 50%   │\n",
      "│                   ·         ·    · ••••                   ·         ·    · ••••│  └──────────────────┘\n",
      "│                                 ·•····•                                  •····•│\n",
      "│                                ·••  ·••                                ·••  ·••│\n",
      "│                               ···· ····                               ···· ····│\n",
      "│         ·         ·    ·  ·••    ·  ·••         ·         ·    ·  ·••    ·  ·••│\n",
      "│                          ·•·•      ·•·•                          ·•·•      ·•·•│\n",
      "│                        •    •    •    •                        •    •    •    •│\n",
      "│                       ··   ··   ··   ··                       ··   ··   ··   ··│\n",
      "│                                                                                │\n",
      "│         ·    ·  ·••         ·    ·   ••         ·    ·   ••         ·    ·  ·••│\n",
      "│                ·•·•                ·•·•                ·•·•                ·•·•│\n",
      "│              •    •              •    •              •    •              •    •│\n",
      "│             ··   ··             ··   ··             ··   ··             ··   ··│\n",
      "│                                                                                │\n",
      "│        ·•        ·•        ·•        ·•        ·•        ·•        ·•        ·•│\n",
      "│       · ·       · ·       · ·       · ·         ·       · ·       · ·       · ·│\n",
      "│         ·         ·    ·    ·         ·         ·    ·    ·         ·         ·│\n",
      "│                                                                                │\n",
      "│                                                                                │\n",
      "└────────────────────────────────────────────────────────────────────────────────┘\n",
      "                               density: 1.463e-05\n"
     ]
    }
   ],
   "source": [
    "spy(rand(Kronecker(20, 2^20*16, OneHotMatrixRNG(0.57, 0.19, 0.19))), 80)"
   ]
  }
 ],
 "metadata": {
  "anaconda-cloud": {},
  "kernelspec": {
   "display_name": "Julia 0.5.1-pre",
   "language": "julia",
   "name": "julia-0.5"
  },
  "language_info": {
   "file_extension": ".jl",
   "mimetype": "application/julia",
   "name": "julia",
   "version": "0.5.1"
  }
 },
 "nbformat": 4,
 "nbformat_minor": 0
}
